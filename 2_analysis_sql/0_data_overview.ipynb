{
 "cells": [
  {
   "cell_type": "markdown",
   "metadata": {},
   "source": [
    "# Chess.com Data Overview"
   ]
  },
  {
   "cell_type": "markdown",
   "metadata": {},
   "source": [
    "## Objective\n",
    "\n",
    "This notebook conducts an initial exploration of all available datasets. It includes examining the structure and summary statistics of each table, analyzing individual columns, and identifying potential relationships and influencing factors for key metrics."
   ]
  },
  {
   "cell_type": "markdown",
   "metadata": {},
   "source": [
    "# Importing Required Libraries"
   ]
  },
  {
   "cell_type": "code",
   "execution_count": 2,
   "metadata": {},
   "outputs": [],
   "source": [
    "import numpy as np\n",
    "import pandas as pd\n",
    "import matplotlib.pyplot as plt\n",
    "import seaborn as sns"
   ]
  },
  {
   "cell_type": "markdown",
   "metadata": {},
   "source": [
    "1. Import all datasets to be analyzed"
   ]
  },
  {
   "cell_type": "code",
   "execution_count": 5,
   "metadata": {},
   "outputs": [],
   "source": [
    "leaders = pd.read_csv('/Users/olhahaidash/Library/Mobile Documents/com~apple~CloudDocs/ohlayadash/[02] Робота/[01] Проєкти — активні й завершені проєкти/chesscom_data_analysis/0_chesscom_api_csv/chesscom_all_leaders.csv')\n",
    "details = pd.read_csv('/Users/olhahaidash/Library/Mobile Documents/com~apple~CloudDocs/ohlayadash/[02] Робота/[01] Проєкти — активні й завершені проєкти/chesscom_data_analysis/0_chesscom_api_csv/top_players_detailed_info.csv')\n",
    "games_09_25 = pd.read_csv('/Users/olhahaidash/Library/Mobile Documents/com~apple~CloudDocs/ohlayadash/[02] Робота/[01] Проєкти — активні й завершені проєкти/chesscom_data_analysis/0_chesscom_api_csv/all_players_games_2025_09_flat.csv')"
   ]
  },
  {
   "cell_type": "markdown",
   "metadata": {},
   "source": [
    "2. Examined dataset structure and content, identified and handled duplicates, missing, and irrelevant values during data cleaning."
   ]
  },
  {
   "cell_type": "markdown",
   "metadata": {},
   "source": [
    "## Leaders table"
   ]
  },
  {
   "cell_type": "code",
   "execution_count": 7,
   "metadata": {},
   "outputs": [
    {
     "data": {
      "text/html": [
       "<div>\n",
       "<style scoped>\n",
       "    .dataframe tbody tr th:only-of-type {\n",
       "        vertical-align: middle;\n",
       "    }\n",
       "\n",
       "    .dataframe tbody tr th {\n",
       "        vertical-align: top;\n",
       "    }\n",
       "\n",
       "    .dataframe thead th {\n",
       "        text-align: right;\n",
       "    }\n",
       "</style>\n",
       "<table border=\"1\" class=\"dataframe\">\n",
       "  <thead>\n",
       "    <tr style=\"text-align: right;\">\n",
       "      <th></th>\n",
       "      <th>type</th>\n",
       "      <th>rank</th>\n",
       "      <th>username</th>\n",
       "      <th>score</th>\n",
       "      <th>country</th>\n",
       "    </tr>\n",
       "  </thead>\n",
       "  <tbody>\n",
       "    <tr>\n",
       "      <th>0</th>\n",
       "      <td>live_blitz</td>\n",
       "      <td>1</td>\n",
       "      <td>MagnusCarlsen</td>\n",
       "      <td>3333</td>\n",
       "      <td>https://api.chess.com/pub/country/NO</td>\n",
       "    </tr>\n",
       "    <tr>\n",
       "      <th>1</th>\n",
       "      <td>live_blitz</td>\n",
       "      <td>2</td>\n",
       "      <td>Hikaru</td>\n",
       "      <td>3299</td>\n",
       "      <td>https://api.chess.com/pub/country/US</td>\n",
       "    </tr>\n",
       "    <tr>\n",
       "      <th>2</th>\n",
       "      <td>live_blitz</td>\n",
       "      <td>3</td>\n",
       "      <td>DenLaz</td>\n",
       "      <td>3260</td>\n",
       "      <td>https://api.chess.com/pub/country/BY</td>\n",
       "    </tr>\n",
       "    <tr>\n",
       "      <th>3</th>\n",
       "      <td>live_blitz</td>\n",
       "      <td>4</td>\n",
       "      <td>nihalsarin</td>\n",
       "      <td>3244</td>\n",
       "      <td>https://api.chess.com/pub/country/IN</td>\n",
       "    </tr>\n",
       "    <tr>\n",
       "      <th>4</th>\n",
       "      <td>live_blitz</td>\n",
       "      <td>5</td>\n",
       "      <td>LyonBeast</td>\n",
       "      <td>3241</td>\n",
       "      <td>https://api.chess.com/pub/country/FR</td>\n",
       "    </tr>\n",
       "    <tr>\n",
       "      <th>...</th>\n",
       "      <td>...</td>\n",
       "      <td>...</td>\n",
       "      <td>...</td>\n",
       "      <td>...</td>\n",
       "      <td>...</td>\n",
       "    </tr>\n",
       "    <tr>\n",
       "      <th>195</th>\n",
       "      <td>daily</td>\n",
       "      <td>46</td>\n",
       "      <td>AndersNM</td>\n",
       "      <td>2336</td>\n",
       "      <td>https://api.chess.com/pub/country/NO</td>\n",
       "    </tr>\n",
       "    <tr>\n",
       "      <th>196</th>\n",
       "      <td>daily</td>\n",
       "      <td>47</td>\n",
       "      <td>AndreyKubatko</td>\n",
       "      <td>2335</td>\n",
       "      <td>https://api.chess.com/pub/country/RU</td>\n",
       "    </tr>\n",
       "    <tr>\n",
       "      <th>197</th>\n",
       "      <td>daily</td>\n",
       "      <td>48</td>\n",
       "      <td>Razzeldazzel</td>\n",
       "      <td>2334</td>\n",
       "      <td>https://api.chess.com/pub/country/SE</td>\n",
       "    </tr>\n",
       "    <tr>\n",
       "      <th>198</th>\n",
       "      <td>daily</td>\n",
       "      <td>49</td>\n",
       "      <td>roughest</td>\n",
       "      <td>2333</td>\n",
       "      <td>https://api.chess.com/pub/country/BR</td>\n",
       "    </tr>\n",
       "    <tr>\n",
       "      <th>199</th>\n",
       "      <td>daily</td>\n",
       "      <td>50</td>\n",
       "      <td>Zheka1980</td>\n",
       "      <td>2332</td>\n",
       "      <td>https://api.chess.com/pub/country/NL</td>\n",
       "    </tr>\n",
       "  </tbody>\n",
       "</table>\n",
       "<p>200 rows × 5 columns</p>\n",
       "</div>"
      ],
      "text/plain": [
       "           type  rank       username  score  \\\n",
       "0    live_blitz     1  MagnusCarlsen   3333   \n",
       "1    live_blitz     2         Hikaru   3299   \n",
       "2    live_blitz     3         DenLaz   3260   \n",
       "3    live_blitz     4     nihalsarin   3244   \n",
       "4    live_blitz     5      LyonBeast   3241   \n",
       "..          ...   ...            ...    ...   \n",
       "195       daily    46       AndersNM   2336   \n",
       "196       daily    47  AndreyKubatko   2335   \n",
       "197       daily    48   Razzeldazzel   2334   \n",
       "198       daily    49       roughest   2333   \n",
       "199       daily    50      Zheka1980   2332   \n",
       "\n",
       "                                  country  \n",
       "0    https://api.chess.com/pub/country/NO  \n",
       "1    https://api.chess.com/pub/country/US  \n",
       "2    https://api.chess.com/pub/country/BY  \n",
       "3    https://api.chess.com/pub/country/IN  \n",
       "4    https://api.chess.com/pub/country/FR  \n",
       "..                                    ...  \n",
       "195  https://api.chess.com/pub/country/NO  \n",
       "196  https://api.chess.com/pub/country/RU  \n",
       "197  https://api.chess.com/pub/country/SE  \n",
       "198  https://api.chess.com/pub/country/BR  \n",
       "199  https://api.chess.com/pub/country/NL  \n",
       "\n",
       "[200 rows x 5 columns]"
      ]
     },
     "execution_count": 7,
     "metadata": {},
     "output_type": "execute_result"
    }
   ],
   "source": [
    "leaders"
   ]
  },
  {
   "cell_type": "code",
   "execution_count": 6,
   "metadata": {},
   "outputs": [
    {
     "data": {
      "text/plain": [
       "array(['live_blitz', 'live_bullet', 'live_rapid', 'daily'], dtype=object)"
      ]
     },
     "execution_count": 6,
     "metadata": {},
     "output_type": "execute_result"
    }
   ],
   "source": [
    "leaders['type'].unique()"
   ]
  },
  {
   "cell_type": "markdown",
   "metadata": {},
   "source": [
    "The Leaders table contains information about the top 50 players in the rankings for different types of chess activities on the Chess.com platform.\n",
    "\n",
    "Columns:\n",
    "\n",
    "`type` — the type of activity to which the ranking belongs. It can take one of four values: 'live_blitz', 'live_bullet', 'live_rapid', 'daily'. These values correspond to game formats with different time controls.\n",
    "\n",
    "`rank` — the player’s position in the respective ranking (an integer from 1 to 50).\n",
    "\n",
    "`username` — the unique username of a player on Chess.com. The same username may appear multiple times if a player is ranked in the top 50 for several different activity types.\n",
    "\n",
    "`score` — the number of points earned by the player in a specific activity.\n",
    "\n",
    "`country` — a URL indicating the player’s country, for example: https://api.chess.com/pub/country/NO. The last two letters (NO) represent the country code according to the ISO 3166-1 alpha-2 standard."
   ]
  },
  {
   "cell_type": "code",
   "execution_count": 9,
   "metadata": {},
   "outputs": [
    {
     "name": "stdout",
     "output_type": "stream",
     "text": [
      "<class 'pandas.core.frame.DataFrame'>\n",
      "RangeIndex: 200 entries, 0 to 199\n",
      "Data columns (total 5 columns):\n",
      " #   Column    Non-Null Count  Dtype \n",
      "---  ------    --------------  ----- \n",
      " 0   type      200 non-null    object\n",
      " 1   rank      200 non-null    int64 \n",
      " 2   username  200 non-null    object\n",
      " 3   score     200 non-null    int64 \n",
      " 4   country   200 non-null    object\n",
      "dtypes: int64(2), object(3)\n",
      "memory usage: 7.9+ KB\n"
     ]
    }
   ],
   "source": [
    "leaders.info()"
   ]
  },
  {
   "cell_type": "code",
   "execution_count": 10,
   "metadata": {},
   "outputs": [
    {
     "data": {
      "text/html": [
       "<div>\n",
       "<style scoped>\n",
       "    .dataframe tbody tr th:only-of-type {\n",
       "        vertical-align: middle;\n",
       "    }\n",
       "\n",
       "    .dataframe tbody tr th {\n",
       "        vertical-align: top;\n",
       "    }\n",
       "\n",
       "    .dataframe thead th {\n",
       "        text-align: right;\n",
       "    }\n",
       "</style>\n",
       "<table border=\"1\" class=\"dataframe\">\n",
       "  <thead>\n",
       "    <tr style=\"text-align: right;\">\n",
       "      <th></th>\n",
       "      <th>type</th>\n",
       "      <th>rank</th>\n",
       "      <th>username</th>\n",
       "      <th>score</th>\n",
       "      <th>country</th>\n",
       "    </tr>\n",
       "  </thead>\n",
       "  <tbody>\n",
       "    <tr>\n",
       "      <th>count</th>\n",
       "      <td>200</td>\n",
       "      <td>200.000000</td>\n",
       "      <td>200</td>\n",
       "      <td>200.000000</td>\n",
       "      <td>200</td>\n",
       "    </tr>\n",
       "    <tr>\n",
       "      <th>unique</th>\n",
       "      <td>4</td>\n",
       "      <td>NaN</td>\n",
       "      <td>159</td>\n",
       "      <td>NaN</td>\n",
       "      <td>57</td>\n",
       "    </tr>\n",
       "    <tr>\n",
       "      <th>top</th>\n",
       "      <td>live_blitz</td>\n",
       "      <td>NaN</td>\n",
       "      <td>MagnusCarlsen</td>\n",
       "      <td>NaN</td>\n",
       "      <td>https://api.chess.com/pub/country/US</td>\n",
       "    </tr>\n",
       "    <tr>\n",
       "      <th>freq</th>\n",
       "      <td>50</td>\n",
       "      <td>NaN</td>\n",
       "      <td>3</td>\n",
       "      <td>NaN</td>\n",
       "      <td>42</td>\n",
       "    </tr>\n",
       "    <tr>\n",
       "      <th>mean</th>\n",
       "      <td>NaN</td>\n",
       "      <td>25.500000</td>\n",
       "      <td>NaN</td>\n",
       "      <td>2875.820000</td>\n",
       "      <td>NaN</td>\n",
       "    </tr>\n",
       "    <tr>\n",
       "      <th>std</th>\n",
       "      <td>NaN</td>\n",
       "      <td>14.467083</td>\n",
       "      <td>NaN</td>\n",
       "      <td>330.760822</td>\n",
       "      <td>NaN</td>\n",
       "    </tr>\n",
       "    <tr>\n",
       "      <th>min</th>\n",
       "      <td>NaN</td>\n",
       "      <td>1.000000</td>\n",
       "      <td>NaN</td>\n",
       "      <td>2332.000000</td>\n",
       "      <td>NaN</td>\n",
       "    </tr>\n",
       "    <tr>\n",
       "      <th>25%</th>\n",
       "      <td>NaN</td>\n",
       "      <td>13.000000</td>\n",
       "      <td>NaN</td>\n",
       "      <td>2658.500000</td>\n",
       "      <td>NaN</td>\n",
       "    </tr>\n",
       "    <tr>\n",
       "      <th>50%</th>\n",
       "      <td>NaN</td>\n",
       "      <td>25.500000</td>\n",
       "      <td>NaN</td>\n",
       "      <td>3034.000000</td>\n",
       "      <td>NaN</td>\n",
       "    </tr>\n",
       "    <tr>\n",
       "      <th>75%</th>\n",
       "      <td>NaN</td>\n",
       "      <td>38.000000</td>\n",
       "      <td>NaN</td>\n",
       "      <td>3155.250000</td>\n",
       "      <td>NaN</td>\n",
       "    </tr>\n",
       "    <tr>\n",
       "      <th>max</th>\n",
       "      <td>NaN</td>\n",
       "      <td>50.000000</td>\n",
       "      <td>NaN</td>\n",
       "      <td>3500.000000</td>\n",
       "      <td>NaN</td>\n",
       "    </tr>\n",
       "  </tbody>\n",
       "</table>\n",
       "</div>"
      ],
      "text/plain": [
       "              type        rank       username        score  \\\n",
       "count          200  200.000000            200   200.000000   \n",
       "unique           4         NaN            159          NaN   \n",
       "top     live_blitz         NaN  MagnusCarlsen          NaN   \n",
       "freq            50         NaN              3          NaN   \n",
       "mean           NaN   25.500000            NaN  2875.820000   \n",
       "std            NaN   14.467083            NaN   330.760822   \n",
       "min            NaN    1.000000            NaN  2332.000000   \n",
       "25%            NaN   13.000000            NaN  2658.500000   \n",
       "50%            NaN   25.500000            NaN  3034.000000   \n",
       "75%            NaN   38.000000            NaN  3155.250000   \n",
       "max            NaN   50.000000            NaN  3500.000000   \n",
       "\n",
       "                                     country  \n",
       "count                                    200  \n",
       "unique                                    57  \n",
       "top     https://api.chess.com/pub/country/US  \n",
       "freq                                      42  \n",
       "mean                                     NaN  \n",
       "std                                      NaN  \n",
       "min                                      NaN  \n",
       "25%                                      NaN  \n",
       "50%                                      NaN  \n",
       "75%                                      NaN  \n",
       "max                                      NaN  "
      ]
     },
     "execution_count": 10,
     "metadata": {},
     "output_type": "execute_result"
    }
   ],
   "source": [
    "leaders.describe(include = 'all')"
   ]
  },
  {
   "cell_type": "code",
   "execution_count": 27,
   "metadata": {},
   "outputs": [
    {
     "name": "stdout",
     "output_type": "stream",
     "text": [
      "35\n"
     ]
    }
   ],
   "source": [
    "unique_leaders_us = leaders.loc[leaders['country'] == 'https://api.chess.com/pub/country/US', 'username'].nunique()\n",
    "print(unique_leaders_us)\n"
   ]
  },
  {
   "cell_type": "markdown",
   "metadata": {},
   "source": [
    "The table contains 200 records and 5 columns: two numerical (rank and score) and three categorical (type, username, country). There are no missing values, which allows for a complete analysis without additional data cleaning.\n",
    "\n",
    "The username column contains 159 unique players, indicating that some players appear in multiple activities. The most frequently appearing player is MagnusCarlsen, represented in 3 out of 4 activities.\n",
    "\n",
    "The country column includes 57 unique countries. The largest number of leaders come from the USA — 42 records, corresponding to 35 unique players (≈22% of all unique players).\n",
    "\n",
    "Quartile analysis shows that the distribution is asymmetric and skewed toward higher values: the interval between Q1 and Q2 (3034 − 2658.5 = 375.5) is considerably larger than that between Q2 and Q3 (3155.25 − 3034 = 121.25), indicating a clustering of players with high scores."
   ]
  },
  {
   "cell_type": "markdown",
   "metadata": {},
   "source": [
    "### Analysis of Score Distribution by Activity Type"
   ]
  },
  {
   "cell_type": "code",
   "execution_count": 69,
   "metadata": {},
   "outputs": [
    {
     "data": {
      "image/png": "[encoded data removed]",
      "text/plain": [
       "<Figure size 1200x300 with 4 Axes>"
      ]
     },
     "metadata": {},
     "output_type": "display_data"
    }
   ],
   "source": [
    "a = sns.displot(\n",
    "    data=leaders,\n",
    "    x='score',\n",
    "    bins=30,\n",
    "    col='type',\n",
    "    height=3,\n",
    "    aspect=1\n",
    ")\n",
    "\n",
    "g.fig.suptitle('Distribution of Scores by Activity Type', fontsize=16, fontweight='bold')\n",
    "g.fig.subplots_adjust(top=0.88)\n",
    "\n",
    "g.set_axis_labels(\"Score\", \"Count\")\n",
    "\n",
    "plt.show()"
   ]
  },
  {
   "cell_type": "markdown",
   "metadata": {},
   "source": [
    "The overall distribution of scores among the leaders is clustered and right-skewed (positive skewed), with a pronounced concentration of players in the 3100–3200 range for live_blitz and live_bullet, around 2650-2700 for live_rapid, and 2300–2350 for daily. The type of activity has a significant impact on the score distribution, as the spread and shape of the distribution vary depending on the category. This can be explained by the specific rules of each activity, particularly the duration of a single game (ranging from 1 minute to 1 day). Since fewer leaders participate in rapid and daily games, they accordingly accumulate fewer points in these categories."
   ]
  },
  {
   "cell_type": "code",
   "execution_count": 9,
   "metadata": {},
   "outputs": [
    {
     "data": {
      "text/plain": [
       "<Axes: xlabel='type', ylabel='score'>"
      ]
     },
     "execution_count": 9,
     "metadata": {},
     "output_type": "execute_result"
    },
    {
     "data": {
      "image/png": "[encoded data removed]",
      "text/plain": [
       "<Figure size 640x480 with 1 Axes>"
      ]
     },
     "metadata": {},
     "output_type": "display_data"
    }
   ],
   "source": [
    "sns.boxplot(data = leaders, x = 'type', y = 'score')"
   ]
  },
  {
   "cell_type": "code",
   "execution_count": 10,
   "metadata": {},
   "outputs": [
    {
     "data": {
      "text/html": [
       "<div>\n",
       "<style scoped>\n",
       "    .dataframe tbody tr th:only-of-type {\n",
       "        vertical-align: middle;\n",
       "    }\n",
       "\n",
       "    .dataframe tbody tr th {\n",
       "        vertical-align: top;\n",
       "    }\n",
       "\n",
       "    .dataframe thead th {\n",
       "        text-align: right;\n",
       "    }\n",
       "</style>\n",
       "<table border=\"1\" class=\"dataframe\">\n",
       "  <thead>\n",
       "    <tr style=\"text-align: right;\">\n",
       "      <th></th>\n",
       "      <th>count</th>\n",
       "      <th>mean</th>\n",
       "      <th>std</th>\n",
       "      <th>min</th>\n",
       "      <th>25%</th>\n",
       "      <th>50%</th>\n",
       "      <th>75%</th>\n",
       "      <th>max</th>\n",
       "    </tr>\n",
       "    <tr>\n",
       "      <th>type</th>\n",
       "      <th></th>\n",
       "      <th></th>\n",
       "      <th></th>\n",
       "      <th></th>\n",
       "      <th></th>\n",
       "      <th></th>\n",
       "      <th></th>\n",
       "      <th></th>\n",
       "    </tr>\n",
       "  </thead>\n",
       "  <tbody>\n",
       "    <tr>\n",
       "      <th>daily</th>\n",
       "      <td>50.0</td>\n",
       "      <td>2402.14</td>\n",
       "      <td>65.907793</td>\n",
       "      <td>2332.0</td>\n",
       "      <td>2348.25</td>\n",
       "      <td>2386.0</td>\n",
       "      <td>2438.00</td>\n",
       "      <td>2603.0</td>\n",
       "    </tr>\n",
       "    <tr>\n",
       "      <th>live_blitz</th>\n",
       "      <td>50.0</td>\n",
       "      <td>3174.86</td>\n",
       "      <td>45.246720</td>\n",
       "      <td>3122.0</td>\n",
       "      <td>3141.50</td>\n",
       "      <td>3170.5</td>\n",
       "      <td>3191.50</td>\n",
       "      <td>3333.0</td>\n",
       "    </tr>\n",
       "    <tr>\n",
       "      <th>live_bullet</th>\n",
       "      <td>50.0</td>\n",
       "      <td>3174.16</td>\n",
       "      <td>74.692119</td>\n",
       "      <td>3102.0</td>\n",
       "      <td>3123.00</td>\n",
       "      <td>3149.5</td>\n",
       "      <td>3201.75</td>\n",
       "      <td>3500.0</td>\n",
       "    </tr>\n",
       "    <tr>\n",
       "      <th>live_rapid</th>\n",
       "      <td>50.0</td>\n",
       "      <td>2752.12</td>\n",
       "      <td>75.499058</td>\n",
       "      <td>2677.0</td>\n",
       "      <td>2693.25</td>\n",
       "      <td>2727.0</td>\n",
       "      <td>2795.25</td>\n",
       "      <td>2966.0</td>\n",
       "    </tr>\n",
       "  </tbody>\n",
       "</table>\n",
       "</div>"
      ],
      "text/plain": [
       "             count     mean        std     min      25%     50%      75%  \\\n",
       "type                                                                       \n",
       "daily         50.0  2402.14  65.907793  2332.0  2348.25  2386.0  2438.00   \n",
       "live_blitz    50.0  3174.86  45.246720  3122.0  3141.50  3170.5  3191.50   \n",
       "live_bullet   50.0  3174.16  74.692119  3102.0  3123.00  3149.5  3201.75   \n",
       "live_rapid    50.0  2752.12  75.499058  2677.0  2693.25  2727.0  2795.25   \n",
       "\n",
       "                max  \n",
       "type                 \n",
       "daily        2603.0  \n",
       "live_blitz   3333.0  \n",
       "live_bullet  3500.0  \n",
       "live_rapid   2966.0  "
      ]
     },
     "execution_count": 10,
     "metadata": {},
     "output_type": "execute_result"
    }
   ],
   "source": [
    "leaders.groupby('type')['score'].describe()\n"
   ]
  },
  {
   "cell_type": "markdown",
   "metadata": {},
   "source": [
    "The boxplot chart illustrates the distribution of the score indicator across four types of player activity — live_bullet, live_blitz, live_rapid, and daily.\n",
    "This visualization enables comparison of performance levels within each group, assessment of value variability, and identification of key distribution patterns.\n",
    "\n",
    "### Median\n",
    "Comparing the medians shows that the highest typical scores are observed in live_blitz (3170.5) and live_bullet (3149.5), which are nearly identical — around 3200.\n",
    "They are followed by live_rapid (2727.0) and daily (2386.0).\n",
    "\n",
    "Thus, the highest typical performance is observed in live_blitz and live_bullet, while the lowest is in daily.\n",
    "\n",
    "### Interquartile Range (IQR)\n",
    "The spread of values is relatively consistent across all activity types. The lowest variability is seen in live_blitz, indicating a stable performance level among players.\n",
    "The highest variability is observed in live_rapid (IQR ≈ 102), suggesting considerable differences in player skill levels within this category.\n",
    "\n",
    "### Minimum and Maximum Values\n",
    "All boxplots exhibit a similar shape of the upper “whisker,” which extends noticeably further than the lower one, indicating the presence of players with exceptionally high scores.\n",
    "The lower whiskers are shorter and more uniform, meaning the lower range of scores is stable across all activity types.\n",
    "The highest maximum value is found in live_bullet (3500), while the lowest maximum belongs to daily (2603).\n",
    "\n",
    "### Outliers\n",
    "Each activity type shows a few outliers with very high scores, indicating the presence of top-performing players who significantly exceed the typical level.\n",
    "No outliers are observed among the lower values.\n",
    "\n",
    "### Distribution Skewness\n",
    "For live_bullet and live_rapid, the median is shifted toward the lower edge of the box, indicating positive (right) skewness — most players have high scores, while a few lower results pull the distribution to the right.\n",
    "In contrast, live_blitz and daily show nearly centered medians, indicating a symmetric distribution with no noticeable skewness.\n",
    "\n",
    "### Summary Conclusion\n",
    "The analysis of boxplots and descriptive statistics shows that:\n",
    "\n",
    "* The highest scores and lowest variability are found in live_blitz and live_bullet (mean ≈ 3174, std = 45–75), indicating stable and strong player performance in fast game formats.\n",
    "\n",
    "* The live_rapid format shows a wider spread of scores (std = 75.5), reflecting greater diversity in player performance levels.\n",
    "\n",
    "* The daily format has the lowest mean (2402) and median (2386), which may suggest lower competitiveness or difficulty among players in this category.\n",
    "\n",
    "Overall, live_blitz and live_bullet can be considered the formats with the highest and most consistent performance, while live_rapid and daily are characterized by lower average scores and greater variability.\n",
    "\n"
   ]
  },
  {
   "cell_type": "markdown",
   "metadata": {},
   "source": [
    "## Categorical Data Analysis"
   ]
  },
  {
   "cell_type": "code",
   "execution_count": 17,
   "metadata": {},
   "outputs": [
    {
     "data": {
      "image/png": "[encoded data removed]",
      "text/plain": [
       "<Figure size 2000x500 with 1 Axes>"
      ]
     },
     "metadata": {},
     "output_type": "display_data"
    }
   ],
   "source": [
    "leaders['country_code'] = leaders['country'].str[-2:]\n",
    "\n",
    "unique_players = leaders[['username', 'country_code']].drop_duplicates()\n",
    "\n",
    "country_counts = unique_players['country_code'].value_counts().reset_index()\n",
    "country_counts.columns = ['country_code', 'unique_players']\n",
    "\n",
    "plt.figure(figsize=(20,5))\n",
    "ax = sns.barplot(data=country_counts, x='country_code', y='unique_players', palette='Blues_r', hue = 'country_code')\n",
    "\n",
    "for container in ax.containers:\n",
    "    ax.bar_label(container, fmt='%d', label_type='edge', padding=3)\n",
    "\n",
    "plt.title('Number of Unique Players by Country')\n",
    "plt.xlabel('Country Code')\n",
    "plt.ylabel('Number of Unique Players')\n",
    "plt.show()"
   ]
  },
  {
   "cell_type": "markdown",
   "metadata": {},
   "source": [
    "The chart shows the distribution of unique players by country.\n",
    "The largest number of top players comes from the United States — 35 players, significantly exceeding the counts of other countries.\n",
    "Following the US are India with 10 players, Russia with 8 players, and Norway with 6 players.\n",
    "All other countries have between 1 and 5 representatives, indicating a notable concentration of top players in a few main countries."
   ]
  },
  {
   "cell_type": "code",
   "execution_count": 26,
   "metadata": {},
   "outputs": [
    {
     "data": {
      "image/png": "[encoded data removed]",
      "text/plain": [
       "<Figure size 600x400 with 1 Axes>"
      ]
     },
     "metadata": {},
     "output_type": "display_data"
    }
   ],
   "source": [
    "player_counts = leaders['username'].value_counts().reset_index()\n",
    "player_counts.columns = ['username', 'appearances']\n",
    "\n",
    "distribution = player_counts['appearances'].value_counts().sort_index()\n",
    "\n",
    "plt.figure(figsize=(6,4))\n",
    "sns.barplot(x=distribution.index, y=distribution.values, palette=\"Blues_r\", hue = distribution.index)\n",
    "\n",
    "plt.title('Distribution of Players by Number of Activities')\n",
    "plt.xlabel('Number of Activities')\n",
    "plt.ylabel('Number of Players')\n",
    "\n",
    "for i, v in enumerate(distribution.values):\n",
    "    plt.text(i, v + 0.5, str(v), ha='center')\n",
    "\n",
    "plt.tight_layout()\n",
    "plt.show()"
   ]
  },
  {
   "cell_type": "code",
   "execution_count": 23,
   "metadata": {},
   "outputs": [
    {
     "data": {
      "text/html": [
       "<div>\n",
       "<style scoped>\n",
       "    .dataframe tbody tr th:only-of-type {\n",
       "        vertical-align: middle;\n",
       "    }\n",
       "\n",
       "    .dataframe tbody tr th {\n",
       "        vertical-align: top;\n",
       "    }\n",
       "\n",
       "    .dataframe thead th {\n",
       "        text-align: right;\n",
       "    }\n",
       "</style>\n",
       "<table border=\"1\" class=\"dataframe\">\n",
       "  <thead>\n",
       "    <tr style=\"text-align: right;\">\n",
       "      <th></th>\n",
       "      <th>username</th>\n",
       "      <th>appearances</th>\n",
       "    </tr>\n",
       "  </thead>\n",
       "  <tbody>\n",
       "    <tr>\n",
       "      <th>0</th>\n",
       "      <td>MagnusCarlsen</td>\n",
       "      <td>3</td>\n",
       "    </tr>\n",
       "    <tr>\n",
       "      <th>1</th>\n",
       "      <td>nihalsarin</td>\n",
       "      <td>3</td>\n",
       "    </tr>\n",
       "    <tr>\n",
       "      <th>2</th>\n",
       "      <td>LyonBeast</td>\n",
       "      <td>3</td>\n",
       "    </tr>\n",
       "    <tr>\n",
       "      <th>3</th>\n",
       "      <td>rpragchess</td>\n",
       "      <td>3</td>\n",
       "    </tr>\n",
       "    <tr>\n",
       "      <th>4</th>\n",
       "      <td>Firouzja2003</td>\n",
       "      <td>3</td>\n",
       "    </tr>\n",
       "    <tr>\n",
       "      <th>5</th>\n",
       "      <td>Hikaru</td>\n",
       "      <td>3</td>\n",
       "    </tr>\n",
       "    <tr>\n",
       "      <th>6</th>\n",
       "      <td>GHANDEEVAM2003</td>\n",
       "      <td>3</td>\n",
       "    </tr>\n",
       "    <tr>\n",
       "      <th>7</th>\n",
       "      <td>FairChess_on_YouTube</td>\n",
       "      <td>3</td>\n",
       "    </tr>\n",
       "    <tr>\n",
       "      <th>8</th>\n",
       "      <td>DenLaz</td>\n",
       "      <td>3</td>\n",
       "    </tr>\n",
       "  </tbody>\n",
       "</table>\n",
       "</div>"
      ],
      "text/plain": [
       "               username  appearances\n",
       "0         MagnusCarlsen            3\n",
       "1            nihalsarin            3\n",
       "2             LyonBeast            3\n",
       "3            rpragchess            3\n",
       "4          Firouzja2003            3\n",
       "5                Hikaru            3\n",
       "6        GHANDEEVAM2003            3\n",
       "7  FairChess_on_YouTube            3\n",
       "8                DenLaz            3"
      ]
     },
     "execution_count": 23,
     "metadata": {},
     "output_type": "execute_result"
    }
   ],
   "source": [
    "player_table = player_counts.sort_values('appearances', ascending=False)\n",
    "\n",
    "player_table.reset_index(drop=True, inplace=True)\n",
    "player_table.head(9)"
   ]
  },
  {
   "cell_type": "markdown",
   "metadata": {},
   "source": [
    "The distribution of players shows that the majority, 127 players, participate in only one type of activity, while 23 players engage in two types, and 9 players are active across three types of activities.\n",
    "\n",
    "Additionally, a separate table lists the players who participate in three out of four activity types, highlighting the most versatile members of the dataset.\n",
    "\n",
    "There are no players who participate in all four activity types."
   ]
  },
  {
   "cell_type": "code",
   "execution_count": null,
   "metadata": {},
   "outputs": [],
   "source": []
  }
 ],
 "metadata": {
  "kernelspec": {
   "display_name": "base",
   "language": "python",
   "name": "python3"
  },
  "language_info": {
   "codemirror_mode": {
    "name": "ipython",
    "version": 3
   },
   "file_extension": ".py",
   "mimetype": "text/x-python",
   "name": "python",
   "nbconvert_exporter": "python",
   "pygments_lexer": "ipython3",
   "version": "3.13.5"
  }
 },
 "nbformat": 4,
 "nbformat_minor": 2
}
