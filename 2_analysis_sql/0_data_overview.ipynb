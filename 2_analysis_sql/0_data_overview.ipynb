{
 "cells": [
  {
   "cell_type": "markdown",
   "metadata": {},
   "source": [
    "# Chess.com Data Overview"
   ]
  },
  {
   "cell_type": "markdown",
   "metadata": {},
   "source": [
    "## Objective\n",
    "\n",
    "This notebook conducts an initial exploration of all available datasets. It includes examining the structure and summary statistics of each table, analyzing individual columns, and identifying potential relationships and influencing factors for key metrics."
   ]
  },
  {
   "cell_type": "markdown",
   "metadata": {},
   "source": [
    "# Importing Required Libraries"
   ]
  },
  {
   "cell_type": "code",
   "execution_count": 36,
   "metadata": {},
   "outputs": [],
   "source": [
    "import numpy as np\n",
    "import pandas as pd\n",
    "import matplotlib.pyplot as plt\n",
    "import seaborn as sns"
   ]
  },
  {
   "cell_type": "markdown",
   "metadata": {},
   "source": [
    "1. Import all datasets to be analyzed"
   ]
  },
  {
   "cell_type": "code",
   "execution_count": 2,
   "metadata": {},
   "outputs": [],
   "source": [
    "leaders = pd.read_csv('/Users/olhahaidash/Library/Mobile Documents/com~apple~CloudDocs/ohlayadash/[02] Робота/[01] Проєкти — активні й завершені проєкти/chesscom_data_analysis/0_chesscom_api_csv/chesscom_all_leaders.csv')\n",
    "details = pd.read_csv('/Users/olhahaidash/Library/Mobile Documents/com~apple~CloudDocs/ohlayadash/[02] Робота/[01] Проєкти — активні й завершені проєкти/chesscom_data_analysis/0_chesscom_api_csv/top_players_detailed_info.csv')\n",
    "games_09_25 = pd.read_csv('/Users/olhahaidash/Library/Mobile Documents/com~apple~CloudDocs/ohlayadash/[02] Робота/[01] Проєкти — активні й завершені проєкти/chesscom_data_analysis/0_chesscom_api_csv/all_players_games_2025_09.csv')"
   ]
  },
  {
   "cell_type": "markdown",
   "metadata": {},
   "source": [
    "2. Examined dataset structure and content, identified and handled duplicates, missing, and irrelevant values during data cleaning."
   ]
  },
  {
   "cell_type": "markdown",
   "metadata": {},
   "source": [
    "### Leaders table"
   ]
  },
  {
   "cell_type": "code",
   "execution_count": 5,
   "metadata": {},
   "outputs": [
    {
     "data": {
      "text/html": [
       "<div>\n",
       "<style scoped>\n",
       "    .dataframe tbody tr th:only-of-type {\n",
       "        vertical-align: middle;\n",
       "    }\n",
       "\n",
       "    .dataframe tbody tr th {\n",
       "        vertical-align: top;\n",
       "    }\n",
       "\n",
       "    .dataframe thead th {\n",
       "        text-align: right;\n",
       "    }\n",
       "</style>\n",
       "<table border=\"1\" class=\"dataframe\">\n",
       "  <thead>\n",
       "    <tr style=\"text-align: right;\">\n",
       "      <th></th>\n",
       "      <th>type</th>\n",
       "      <th>rank</th>\n",
       "      <th>username</th>\n",
       "      <th>score</th>\n",
       "      <th>country</th>\n",
       "    </tr>\n",
       "  </thead>\n",
       "  <tbody>\n",
       "    <tr>\n",
       "      <th>0</th>\n",
       "      <td>live_blitz</td>\n",
       "      <td>1</td>\n",
       "      <td>MagnusCarlsen</td>\n",
       "      <td>3333</td>\n",
       "      <td>https://api.chess.com/pub/country/NO</td>\n",
       "    </tr>\n",
       "    <tr>\n",
       "      <th>1</th>\n",
       "      <td>live_blitz</td>\n",
       "      <td>2</td>\n",
       "      <td>Hikaru</td>\n",
       "      <td>3299</td>\n",
       "      <td>https://api.chess.com/pub/country/US</td>\n",
       "    </tr>\n",
       "    <tr>\n",
       "      <th>2</th>\n",
       "      <td>live_blitz</td>\n",
       "      <td>3</td>\n",
       "      <td>DenLaz</td>\n",
       "      <td>3260</td>\n",
       "      <td>https://api.chess.com/pub/country/BY</td>\n",
       "    </tr>\n",
       "    <tr>\n",
       "      <th>3</th>\n",
       "      <td>live_blitz</td>\n",
       "      <td>4</td>\n",
       "      <td>nihalsarin</td>\n",
       "      <td>3244</td>\n",
       "      <td>https://api.chess.com/pub/country/IN</td>\n",
       "    </tr>\n",
       "    <tr>\n",
       "      <th>4</th>\n",
       "      <td>live_blitz</td>\n",
       "      <td>5</td>\n",
       "      <td>LyonBeast</td>\n",
       "      <td>3241</td>\n",
       "      <td>https://api.chess.com/pub/country/FR</td>\n",
       "    </tr>\n",
       "    <tr>\n",
       "      <th>...</th>\n",
       "      <td>...</td>\n",
       "      <td>...</td>\n",
       "      <td>...</td>\n",
       "      <td>...</td>\n",
       "      <td>...</td>\n",
       "    </tr>\n",
       "    <tr>\n",
       "      <th>195</th>\n",
       "      <td>daily</td>\n",
       "      <td>46</td>\n",
       "      <td>AndersNM</td>\n",
       "      <td>2336</td>\n",
       "      <td>https://api.chess.com/pub/country/NO</td>\n",
       "    </tr>\n",
       "    <tr>\n",
       "      <th>196</th>\n",
       "      <td>daily</td>\n",
       "      <td>47</td>\n",
       "      <td>AndreyKubatko</td>\n",
       "      <td>2335</td>\n",
       "      <td>https://api.chess.com/pub/country/RU</td>\n",
       "    </tr>\n",
       "    <tr>\n",
       "      <th>197</th>\n",
       "      <td>daily</td>\n",
       "      <td>48</td>\n",
       "      <td>Razzeldazzel</td>\n",
       "      <td>2334</td>\n",
       "      <td>https://api.chess.com/pub/country/SE</td>\n",
       "    </tr>\n",
       "    <tr>\n",
       "      <th>198</th>\n",
       "      <td>daily</td>\n",
       "      <td>49</td>\n",
       "      <td>roughest</td>\n",
       "      <td>2333</td>\n",
       "      <td>https://api.chess.com/pub/country/BR</td>\n",
       "    </tr>\n",
       "    <tr>\n",
       "      <th>199</th>\n",
       "      <td>daily</td>\n",
       "      <td>50</td>\n",
       "      <td>Zheka1980</td>\n",
       "      <td>2332</td>\n",
       "      <td>https://api.chess.com/pub/country/NL</td>\n",
       "    </tr>\n",
       "  </tbody>\n",
       "</table>\n",
       "<p>200 rows × 5 columns</p>\n",
       "</div>"
      ],
      "text/plain": [
       "           type  rank       username  score  \\\n",
       "0    live_blitz     1  MagnusCarlsen   3333   \n",
       "1    live_blitz     2         Hikaru   3299   \n",
       "2    live_blitz     3         DenLaz   3260   \n",
       "3    live_blitz     4     nihalsarin   3244   \n",
       "4    live_blitz     5      LyonBeast   3241   \n",
       "..          ...   ...            ...    ...   \n",
       "195       daily    46       AndersNM   2336   \n",
       "196       daily    47  AndreyKubatko   2335   \n",
       "197       daily    48   Razzeldazzel   2334   \n",
       "198       daily    49       roughest   2333   \n",
       "199       daily    50      Zheka1980   2332   \n",
       "\n",
       "                                  country  \n",
       "0    https://api.chess.com/pub/country/NO  \n",
       "1    https://api.chess.com/pub/country/US  \n",
       "2    https://api.chess.com/pub/country/BY  \n",
       "3    https://api.chess.com/pub/country/IN  \n",
       "4    https://api.chess.com/pub/country/FR  \n",
       "..                                    ...  \n",
       "195  https://api.chess.com/pub/country/NO  \n",
       "196  https://api.chess.com/pub/country/RU  \n",
       "197  https://api.chess.com/pub/country/SE  \n",
       "198  https://api.chess.com/pub/country/BR  \n",
       "199  https://api.chess.com/pub/country/NL  \n",
       "\n",
       "[200 rows x 5 columns]"
      ]
     },
     "execution_count": 5,
     "metadata": {},
     "output_type": "execute_result"
    }
   ],
   "source": [
    "leaders"
   ]
  },
  {
   "cell_type": "code",
   "execution_count": 6,
   "metadata": {},
   "outputs": [
    {
     "data": {
      "text/plain": [
       "array(['live_blitz', 'live_bullet', 'live_rapid', 'daily'], dtype=object)"
      ]
     },
     "execution_count": 6,
     "metadata": {},
     "output_type": "execute_result"
    }
   ],
   "source": [
    "leaders['type'].unique()"
   ]
  },
  {
   "cell_type": "markdown",
   "metadata": {},
   "source": [
    "The Leaders table contains information about the top 50 players in the rankings for different types of chess activities on the Chess.com platform.\n",
    "\n",
    "Columns:\n",
    "\n",
    "`type` — the type of activity to which the ranking belongs. It can take one of four values: 'live_blitz', 'live_bullet', 'live_rapid', 'daily'. These values correspond to game formats with different time controls.\n",
    "\n",
    "`rank` — the player’s position in the respective ranking (an integer from 1 to 50).\n",
    "\n",
    "`username` — the unique username of a player on Chess.com. The same username may appear multiple times if a player is ranked in the top 50 for several different activity types.\n",
    "\n",
    "`score` — the number of points earned by the player in a specific activity.\n",
    "\n",
    "`country` — a URL indicating the player’s country, for example: https://api.chess.com/pub/country/NO. The last two letters (NO) represent the country code according to the ISO 3166-1 alpha-2 standard."
   ]
  },
  {
   "cell_type": "code",
   "execution_count": 9,
   "metadata": {},
   "outputs": [
    {
     "name": "stdout",
     "output_type": "stream",
     "text": [
      "<class 'pandas.core.frame.DataFrame'>\n",
      "RangeIndex: 200 entries, 0 to 199\n",
      "Data columns (total 5 columns):\n",
      " #   Column    Non-Null Count  Dtype \n",
      "---  ------    --------------  ----- \n",
      " 0   type      200 non-null    object\n",
      " 1   rank      200 non-null    int64 \n",
      " 2   username  200 non-null    object\n",
      " 3   score     200 non-null    int64 \n",
      " 4   country   200 non-null    object\n",
      "dtypes: int64(2), object(3)\n",
      "memory usage: 7.9+ KB\n"
     ]
    }
   ],
   "source": [
    "leaders.info()"
   ]
  },
  {
   "cell_type": "code",
   "execution_count": 10,
   "metadata": {},
   "outputs": [
    {
     "data": {
      "text/html": [
       "<div>\n",
       "<style scoped>\n",
       "    .dataframe tbody tr th:only-of-type {\n",
       "        vertical-align: middle;\n",
       "    }\n",
       "\n",
       "    .dataframe tbody tr th {\n",
       "        vertical-align: top;\n",
       "    }\n",
       "\n",
       "    .dataframe thead th {\n",
       "        text-align: right;\n",
       "    }\n",
       "</style>\n",
       "<table border=\"1\" class=\"dataframe\">\n",
       "  <thead>\n",
       "    <tr style=\"text-align: right;\">\n",
       "      <th></th>\n",
       "      <th>type</th>\n",
       "      <th>rank</th>\n",
       "      <th>username</th>\n",
       "      <th>score</th>\n",
       "      <th>country</th>\n",
       "    </tr>\n",
       "  </thead>\n",
       "  <tbody>\n",
       "    <tr>\n",
       "      <th>count</th>\n",
       "      <td>200</td>\n",
       "      <td>200.000000</td>\n",
       "      <td>200</td>\n",
       "      <td>200.000000</td>\n",
       "      <td>200</td>\n",
       "    </tr>\n",
       "    <tr>\n",
       "      <th>unique</th>\n",
       "      <td>4</td>\n",
       "      <td>NaN</td>\n",
       "      <td>159</td>\n",
       "      <td>NaN</td>\n",
       "      <td>57</td>\n",
       "    </tr>\n",
       "    <tr>\n",
       "      <th>top</th>\n",
       "      <td>live_blitz</td>\n",
       "      <td>NaN</td>\n",
       "      <td>MagnusCarlsen</td>\n",
       "      <td>NaN</td>\n",
       "      <td>https://api.chess.com/pub/country/US</td>\n",
       "    </tr>\n",
       "    <tr>\n",
       "      <th>freq</th>\n",
       "      <td>50</td>\n",
       "      <td>NaN</td>\n",
       "      <td>3</td>\n",
       "      <td>NaN</td>\n",
       "      <td>42</td>\n",
       "    </tr>\n",
       "    <tr>\n",
       "      <th>mean</th>\n",
       "      <td>NaN</td>\n",
       "      <td>25.500000</td>\n",
       "      <td>NaN</td>\n",
       "      <td>2875.820000</td>\n",
       "      <td>NaN</td>\n",
       "    </tr>\n",
       "    <tr>\n",
       "      <th>std</th>\n",
       "      <td>NaN</td>\n",
       "      <td>14.467083</td>\n",
       "      <td>NaN</td>\n",
       "      <td>330.760822</td>\n",
       "      <td>NaN</td>\n",
       "    </tr>\n",
       "    <tr>\n",
       "      <th>min</th>\n",
       "      <td>NaN</td>\n",
       "      <td>1.000000</td>\n",
       "      <td>NaN</td>\n",
       "      <td>2332.000000</td>\n",
       "      <td>NaN</td>\n",
       "    </tr>\n",
       "    <tr>\n",
       "      <th>25%</th>\n",
       "      <td>NaN</td>\n",
       "      <td>13.000000</td>\n",
       "      <td>NaN</td>\n",
       "      <td>2658.500000</td>\n",
       "      <td>NaN</td>\n",
       "    </tr>\n",
       "    <tr>\n",
       "      <th>50%</th>\n",
       "      <td>NaN</td>\n",
       "      <td>25.500000</td>\n",
       "      <td>NaN</td>\n",
       "      <td>3034.000000</td>\n",
       "      <td>NaN</td>\n",
       "    </tr>\n",
       "    <tr>\n",
       "      <th>75%</th>\n",
       "      <td>NaN</td>\n",
       "      <td>38.000000</td>\n",
       "      <td>NaN</td>\n",
       "      <td>3155.250000</td>\n",
       "      <td>NaN</td>\n",
       "    </tr>\n",
       "    <tr>\n",
       "      <th>max</th>\n",
       "      <td>NaN</td>\n",
       "      <td>50.000000</td>\n",
       "      <td>NaN</td>\n",
       "      <td>3500.000000</td>\n",
       "      <td>NaN</td>\n",
       "    </tr>\n",
       "  </tbody>\n",
       "</table>\n",
       "</div>"
      ],
      "text/plain": [
       "              type        rank       username        score  \\\n",
       "count          200  200.000000            200   200.000000   \n",
       "unique           4         NaN            159          NaN   \n",
       "top     live_blitz         NaN  MagnusCarlsen          NaN   \n",
       "freq            50         NaN              3          NaN   \n",
       "mean           NaN   25.500000            NaN  2875.820000   \n",
       "std            NaN   14.467083            NaN   330.760822   \n",
       "min            NaN    1.000000            NaN  2332.000000   \n",
       "25%            NaN   13.000000            NaN  2658.500000   \n",
       "50%            NaN   25.500000            NaN  3034.000000   \n",
       "75%            NaN   38.000000            NaN  3155.250000   \n",
       "max            NaN   50.000000            NaN  3500.000000   \n",
       "\n",
       "                                     country  \n",
       "count                                    200  \n",
       "unique                                    57  \n",
       "top     https://api.chess.com/pub/country/US  \n",
       "freq                                      42  \n",
       "mean                                     NaN  \n",
       "std                                      NaN  \n",
       "min                                      NaN  \n",
       "25%                                      NaN  \n",
       "50%                                      NaN  \n",
       "75%                                      NaN  \n",
       "max                                      NaN  "
      ]
     },
     "execution_count": 10,
     "metadata": {},
     "output_type": "execute_result"
    }
   ],
   "source": [
    "leaders.describe(include = 'all')"
   ]
  },
  {
   "cell_type": "code",
   "execution_count": 27,
   "metadata": {},
   "outputs": [
    {
     "name": "stdout",
     "output_type": "stream",
     "text": [
      "35\n"
     ]
    }
   ],
   "source": [
    "unique_leaders_us = leaders.loc[leaders['country'] == 'https://api.chess.com/pub/country/US', 'username'].nunique()\n",
    "print(unique_leaders_us)\n"
   ]
  },
  {
   "cell_type": "markdown",
   "metadata": {},
   "source": [
    "The table contains 200 records and 5 columns: two numerical (rank and score) and three categorical (type, username, country). There are no missing values, which allows for a complete analysis without additional data cleaning.\n",
    "\n",
    "The username column contains 159 unique players, indicating that some players appear in multiple activities. The most frequently appearing player is MagnusCarlsen, represented in 3 out of 4 activities.\n",
    "\n",
    "The country column includes 57 unique countries. The largest number of leaders come from the USA — 42 records, corresponding to 35 unique players (≈22% of all unique players).\n",
    "\n",
    "Quartile analysis shows that the distribution is asymmetric and skewed toward higher values: the interval between Q1 and Q2 (3034 − 2658.5 = 375.5) is considerably larger than that between Q2 and Q3 (3155.25 − 3034 = 121.25), indicating a clustering of players with high scores."
   ]
  },
  {
   "cell_type": "code",
   "execution_count": 69,
   "metadata": {},
   "outputs": [
    {
     "data": {
      "image/png": "[encoded data removed]",
      "text/plain": [
       "<Figure size 1200x300 with 4 Axes>"
      ]
     },
     "metadata": {},
     "output_type": "display_data"
    }
   ],
   "source": [
    "a = sns.displot(\n",
    "    data=leaders,\n",
    "    x='score',\n",
    "    bins=30,\n",
    "    col='type',\n",
    "    height=3,\n",
    "    aspect=1\n",
    ")\n",
    "\n",
    "g.fig.suptitle('Distribution of Scores by Activity Type', fontsize=16, fontweight='bold')\n",
    "g.fig.subplots_adjust(top=0.88)\n",
    "\n",
    "g.set_axis_labels(\"Score\", \"Count\")\n",
    "\n",
    "plt.show()"
   ]
  },
  {
   "cell_type": "markdown",
   "metadata": {},
   "source": [
    "The overall distribution of scores among the leaders is clustered and left-skewed (negatively skewed), with a pronounced concentration of players in the 3100–3200 range for live_blitz and live_bullet, around 2650-2700 for live_rapid, and 2300–2350 for daily. The type of activity has a significant impact on the score distribution, as the spread and shape of the distribution vary depending on the category. This can be explained by the specific rules of each activity, particularly the duration of a single game (ranging from 1 minute to 1 day). Since fewer leaders participate in rapid and daily games, they accordingly accumulate fewer points in these categories."
   ]
  }
 ],
 "metadata": {
  "kernelspec": {
   "display_name": "base",
   "language": "python",
   "name": "python3"
  },
  "language_info": {
   "codemirror_mode": {
    "name": "ipython",
    "version": 3
   },
   "file_extension": ".py",
   "mimetype": "text/x-python",
   "name": "python",
   "nbconvert_exporter": "python",
   "pygments_lexer": "ipython3",
   "version": "3.13.5"
  }
 },
 "nbformat": 4,
 "nbformat_minor": 2
}
